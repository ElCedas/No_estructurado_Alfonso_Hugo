{
 "cells": [
  {
   "cell_type": "code",
   "execution_count": 3,
   "id": "cc09be15-18f9-4fbb-a19a-71b05a0505e4",
   "metadata": {},
   "outputs": [
    {
     "name": "stdout",
     "output_type": "stream",
     "text": [
      "Loaded 7390 images under 35 classes.\n"
     ]
    }
   ],
   "source": [
    "from torchvision import datasets, transforms\n",
    "from torch.utils.data import DataLoader\n",
    "\n",
    "# Define transformations\n",
    "transform = transforms.Compose([\n",
    "    transforms.Resize(256),\n",
    "    transforms.CenterCrop(224),\n",
    "    transforms.ToTensor(),\n",
    "    transforms.Normalize(mean=[0.485, 0.456, 0.406], std=[0.229, 0.224, 0.225]),\n",
    "])\n",
    "\n",
    "# Load the organized dataset\n",
    "organized_data_dir = './data/pets/formatted_images'\n",
    "dataset = datasets.ImageFolder(root=organized_data_dir, transform=transform)\n",
    "dataset_loader = DataLoader(dataset, batch_size=32, shuffle=True)\n",
    "\n",
    "print(f\"Loaded {len(dataset)} images under {len(dataset.classes)} classes.\")\n"
   ]
  },
  {
   "cell_type": "code",
   "execution_count": 6,
   "id": "f2aeeb04-5de4-4468-8700-ba92bb397e84",
   "metadata": {},
   "outputs": [],
   "source": [
    "device = torch.device('cuda' if torch.cuda.is_available() else 'cpu')"
   ]
  },
  {
   "cell_type": "code",
   "execution_count": 10,
   "id": "28e9ba55-0af7-4ab7-a92a-2c9010c15ed3",
   "metadata": {},
   "outputs": [],
   "source": [
    "criterion = nn.CrossEntropyLoss()\n",
    "optimizer = optim.Adam(model.parameters(), lr=0.001)\n"
   ]
  },
  {
   "cell_type": "markdown",
   "id": "e16450b4-edac-4344-951c-3ac7ef91e155",
   "metadata": {},
   "source": [
    "Aqui se puede ver como se intento realizar una implementacion custom de resnet, con transformaciones para intentar evitar el sobrenetreno\n",
    "desde rotaciones, color jitter, y flips horizontales, y con un dropout dentro del modelo incluido.\n",
    "Se incluyo un early stopping tambien para evitar que como en el primer modelo, bajase la validation accuracy debido a sobreentreno"
   ]
  },
  {
   "cell_type": "code",
   "execution_count": 1,
   "id": "e1889e24-f94b-440f-8401-92c4471614ad",
   "metadata": {},
   "outputs": [
    {
     "name": "stderr",
     "output_type": "stream",
     "text": [
      "C:\\Users\\usuario\\anaconda3\\envs\\ML\\Lib\\site-packages\\torchvision\\models\\_utils.py:208: UserWarning: The parameter 'pretrained' is deprecated since 0.13 and may be removed in the future, please use 'weights' instead.\n",
      "  warnings.warn(\n",
      "C:\\Users\\usuario\\anaconda3\\envs\\ML\\Lib\\site-packages\\torchvision\\models\\_utils.py:223: UserWarning: Arguments other than a weight enum or `None` for 'weights' are deprecated since 0.13 and may be removed in the future. The current behavior is equivalent to passing `weights=ResNet18_Weights.IMAGENET1K_V1`. You can also use `weights=ResNet18_Weights.DEFAULT` to get the most up-to-date weights.\n",
      "  warnings.warn(msg)\n"
     ]
    },
    {
     "name": "stdout",
     "output_type": "stream",
     "text": [
      "Epoch 1, Loss: 2.3261710108937446\n",
      "Validation Accuracy after epoch 1: 28.552097428958053%\n",
      "Epoch 2, Loss: 1.7724812034014108\n",
      "Validation Accuracy after epoch 2: 47.699594046008116%\n",
      "Epoch 3, Loss: 1.525680046790355\n",
      "Validation Accuracy after epoch 3: 56.630581867388365%\n",
      "Epoch 4, Loss: 1.3706472219647587\n",
      "Validation Accuracy after epoch 4: 55.00676589986468%\n",
      "Epoch 5, Loss: 1.3348229504920341\n",
      "Validation Accuracy after epoch 5: 61.36671177266577%\n",
      "Epoch 6, Loss: 1.2519757493122203\n",
      "Validation Accuracy after epoch 6: 62.44925575101489%\n",
      "Epoch 7, Loss: 1.139319961457639\n",
      "Validation Accuracy after epoch 7: 61.231393775372126%\n",
      "Epoch 8, Loss: 1.1680936639373367\n",
      "Validation Accuracy after epoch 8: 59.20162381596752%\n",
      "Epoch 9, Loss: 1.120691933503022\n",
      "Validation Accuracy after epoch 9: 61.56968876860623%\n",
      "Early stopping!\n",
      "Finished Training\n"
     ]
    }
   ],
   "source": [
    "import torch\n",
    "import torchvision.transforms as transforms\n",
    "import torchvision.datasets as datasets\n",
    "from torchvision import models\n",
    "from torch.utils.data import DataLoader\n",
    "from torch import nn, optim\n",
    "\n",
    "# Define device\n",
    "device = torch.device('cuda' if torch.cuda.is_available() else 'cpu')\n",
    "\n",
    "# Data augmentation for training and normalization for validation\n",
    "train_transform = transforms.Compose([\n",
    "    transforms.RandomHorizontalFlip(),\n",
    "    transforms.RandomRotation(10),\n",
    "    transforms.ColorJitter(brightness=0.2, contrast=0.2, saturation=0.2, hue=0.1),\n",
    "    transforms.RandomResizedCrop(224),\n",
    "    transforms.ToTensor(),\n",
    "    transforms.Normalize(mean=[0.485, 0.456, 0.406], std=[0.229, 0.224, 0.225]),\n",
    "])\n",
    "\n",
    "val_transform = transforms.Compose([\n",
    "    transforms.Resize(256),\n",
    "    transforms.CenterCrop(224),\n",
    "    transforms.ToTensor(),\n",
    "    transforms.Normalize(mean=[0.485, 0.456, 0.406], std=[0.229, 0.224, 0.225]),\n",
    "])\n",
    "\n",
    "# Load datasets\n",
    "data_dir = './data/pets/formatted_images'\n",
    "train_dataset = datasets.ImageFolder(root=data_dir, transform=train_transform)\n",
    "val_dataset = datasets.ImageFolder(root=data_dir, transform=val_transform)\n",
    "\n",
    "# Splitting datasets\n",
    "train_size = int(0.8 * len(train_dataset))\n",
    "val_size = len(train_dataset) - train_size\n",
    "train_dataset, val_dataset = torch.utils.data.random_split(train_dataset, [train_size, val_size])\n",
    "\n",
    "train_loader = DataLoader(train_dataset, batch_size=32, shuffle=True)\n",
    "val_loader = DataLoader(val_dataset, batch_size=32, shuffle=False)\n",
    "\n",
    "# Define the model with BatchNorm and Dropout\n",
    "class CustomResNet(nn.Module):\n",
    "    def __init__(self, num_classes):\n",
    "        super(CustomResNet, self).__init__()\n",
    "        self.resnet = models.resnet18(pretrained=True)\n",
    "        num_ftrs = self.resnet.fc.in_features\n",
    "        self.resnet.fc = nn.Sequential(\n",
    "            nn.Dropout(0.5),\n",
    "            nn.Linear(num_ftrs, num_classes)\n",
    "        )\n",
    "\n",
    "    def forward(self, x):\n",
    "        return self.resnet(x)\n",
    "\n",
    "model = CustomResNet(len(train_dataset.dataset.classes)).to(device)\n",
    "\n",
    "criterion = nn.CrossEntropyLoss()\n",
    "optimizer = optim.Adam(model.parameters(), lr=0.001, weight_decay=1e-5)\n",
    "\n",
    "\n",
    "num_epochs = 10\n",
    "best_val_accuracy = 0\n",
    "epochs_no_improve = 0\n",
    "n_epochs_stop = 3\n",
    "\n",
    "for epoch in range(num_epochs):\n",
    "    model.train()\n",
    "    running_loss = 0.0\n",
    "    for images, labels in train_loader:\n",
    "        images, labels = images.to(device), labels.to(device)\n",
    "        \n",
    "        optimizer.zero_grad()\n",
    "        outputs = model(images)\n",
    "        loss = criterion(outputs, labels)\n",
    "        loss.backward()\n",
    "        optimizer.step()\n",
    "        \n",
    "        running_loss += loss.item()\n",
    "\n",
    "    print(f\"Epoch {epoch+1}, Loss: {running_loss / len(train_loader)}\")\n",
    "\n",
    "    # Validation phase\n",
    "    model.eval()\n",
    "    correct = 0\n",
    "    total = 0\n",
    "    with torch.no_grad():\n",
    "        for images, labels in val_loader:\n",
    "            images, labels = images.to(device), labels.to(device)\n",
    "            outputs = model(images)\n",
    "            _, predicted = torch.max(outputs, 1)\n",
    "            total += labels.size(0)\n",
    "            correct += (predicted == labels).sum().item()\n",
    "\n",
    "    val_accuracy = 100 * correct / total\n",
    "    print(f'Validation Accuracy after epoch {epoch+1}: {val_accuracy}%')\n",
    "\n",
    "    # Check early stopping\n",
    "    if val_accuracy > best_val_accuracy:\n",
    "        best_val_accuracy = val_accuracy\n",
    "        epochs_no_improve = 0\n",
    "    else:\n",
    "        epochs_no_improve += 1\n",
    "        if epochs_no_improve == n_epochs_stop:\n",
    "            print(\"Early stopping!\")\n",
    "            break\n",
    "\n",
    "print(\"Finished Training\")\n"
   ]
  },
  {
   "cell_type": "code",
   "execution_count": 1,
   "id": "759bc483-b55d-4734-be4f-4ec6a448019b",
   "metadata": {},
   "outputs": [
    {
     "data": {
      "image/png": "[encoded data removed]",
      "text/plain": [
       "<Figure size 640x480 with 2 Axes>"
      ]
     },
     "metadata": {},
     "output_type": "display_data"
    }
   ],
   "source": [
    "import matplotlib.pyplot as plt\n",
    "\n",
    "epochs = list(range(1, 10))  # 9 epochs debido al early stop\n",
    "\n",
    "losses = [\n",
    "    2.3261710108937446, 1.7724812034014108, 1.525680046790355,\n",
    "    1.3706472219647587, 1.3348229504920341, 1.2519757493122203,\n",
    "    1.139319961457639, 1.1680936639373367, 1.120691933503022\n",
    "]\n",
    "\n",
    "accuracies = [\n",
    "    28.552097428958053, 47.699594046008116, 56.630581867388365,\n",
    "    55.00676589986468, 61.36671177266577, 62.44925575101489,\n",
    "    61.231393775372126, 59.20162381596752, 61.56968876860623\n",
    "]\n",
    "\n",
    "fig, ax1 = plt.subplots()\n",
    "\n",
    "color = 'tab:red'\n",
    "ax1.set_xlabel('Epoch')\n",
    "ax1.set_ylabel('Loss', color=color)\n",
    "ax1.plot(epochs, losses, color=color, marker='o', label='Training Loss')\n",
    "ax1.tick_params(axis='y', labelcolor=color)\n",
    "\n",
    "ax2 = ax1.twinx()\n",
    "color = 'tab:blue'\n",
    "ax2.set_ylabel('Accuracy (%)', color=color)\n",
    "ax2.plot(epochs, accuracies, color=color, marker='o', label='Validation Accuracy')\n",
    "ax2.tick_params(axis='y', labelcolor=color)\n",
    "\n",
    "plt.title('Training Loss and Validation Accuracy per Epoch')\n",
    "fig.tight_layout()\n",
    "\n",
    "plt.show()\n"
   ]
  },
  {
   "cell_type": "markdown",
   "id": "1544b21b-f627-4702-95e2-8871ce337f5e",
   "metadata": {},
   "source": [
    "Un plot bastante habitual, si no fuese por los resultados decepcionantes, el cambio a custom no mejoro en absoluto nada excepto el sobre-entreno"
   ]
  },
  {
   "cell_type": "code",
   "execution_count": 2,
   "id": "72a4c99e-1336-45ee-af83-16d4261faba4",
   "metadata": {},
   "outputs": [
    {
     "name": "stdout",
     "output_type": "stream",
     "text": [
      "Validation Accuracy after epoch 9: 68.2171853856563%\n"
     ]
    }
   ],
   "source": [
    "correct = 0\n",
    "total = 0\n",
    "for images, labels in train_loader:\n",
    "    images, labels = images.to(device), labels.to(device)\n",
    "    outputs = model(images)\n",
    "    _, predicted = torch.max(outputs, 1)\n",
    "    total += labels.size(0)\n",
    "    correct += (predicted == labels).sum().item()\n",
    "\n",
    "print(f'training Accuracy after epoch {epoch+1}: {100 * correct / total}%')"
   ]
  },
  {
   "cell_type": "markdown",
   "id": "e54448d1-8073-4e2b-b7b6-222d737b130e",
   "metadata": {},
   "source": [
    "El de arriba es training abajo validation"
   ]
  },
  {
   "cell_type": "code",
   "execution_count": 3,
   "id": "269f4496-d4e4-49a7-9b72-7c8bf932d3f6",
   "metadata": {},
   "outputs": [
    {
     "name": "stdout",
     "output_type": "stream",
     "text": [
      "Validation Accuracy after epoch 9: 61.97564276048715%\n"
     ]
    }
   ],
   "source": [
    "correct = 0\n",
    "total = 0\n",
    "for images, labels in val_loader:\n",
    "    images, labels = images.to(device), labels.to(device)\n",
    "    outputs = model(images)\n",
    "    _, predicted = torch.max(outputs, 1)\n",
    "    total += labels.size(0)\n",
    "    correct += (predicted == labels).sum().item()\n",
    "\n",
    "print(f'Validation Accuracy after epoch {epoch+1}: {100 * correct / total}%')"
   ]
  },
  {
   "cell_type": "markdown",
   "id": "57ff6ec3-5d28-40a4-978c-0d85798f4a80",
   "metadata": {},
   "source": [
    "Este modelo no sobreentrena de manera tan enorme, pero simplemente no es bueno en cuanto a resultados, por lo que se decidio\n",
    "abandonar por completo el resnet18. Aunque se podrian haber tenido resultados mejorados con algunos retoques, como quitar el color jitter\n",
    "se decidio que el entrenamiento era demasiado lento."
   ]
  }
 ],
 "metadata": {
  "kernelspec": {
   "display_name": "Python 3 (ipykernel)",
   "language": "python",
   "name": "python3"
  },
  "language_info": {
   "codemirror_mode": {
    "name": "ipython",
    "version": 3
   },
   "file_extension": ".py",
   "mimetype": "text/x-python",
   "name": "python",
   "nbconvert_exporter": "python",
   "pygments_lexer": "ipython3",
   "version": "3.11.5"
  }
 },
 "nbformat": 4,
 "nbformat_minor": 5
}
