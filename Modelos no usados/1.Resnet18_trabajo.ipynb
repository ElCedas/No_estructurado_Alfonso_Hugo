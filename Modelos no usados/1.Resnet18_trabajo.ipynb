{
 "cells": [
  {
   "cell_type": "markdown",
   "id": "230c37bf-73e4-4579-b604-6f56da67c761",
   "metadata": {},
   "source": [
    "Aqui tenemos una implementacion fallida de Resnet18, con un sobreentreno muy alto\n",
    "asi como tiempos de entreno increiblemente altos, por lo que se decidio cambiar de modelo a menos complejos."
   ]
  },
  {
   "cell_type": "code",
   "execution_count": 3,
   "id": "cc09be15-18f9-4fbb-a19a-71b05a0505e4",
   "metadata": {},
   "outputs": [
    {
     "name": "stdout",
     "output_type": "stream",
     "text": [
      "Loaded 7390 images under 35 classes.\n"
     ]
    }
   ],
   "source": [
    "from torchvision import datasets, transforms\n",
    "from torch.utils.data import DataLoader\n",
    "\n",
    "# Define transformations\n",
    "transform = transforms.Compose([\n",
    "    transforms.Resize(256),\n",
    "    transforms.CenterCrop(224),\n",
    "    transforms.ToTensor(),\n",
    "    transforms.Normalize(mean=[0.485, 0.456, 0.406], std=[0.229, 0.224, 0.225]),\n",
    "])\n",
    "\n",
    "# Load the organized dataset\n",
    "organized_data_dir = './data/pets/formatted_images'\n",
    "dataset = datasets.ImageFolder(root=organized_data_dir, transform=transform)\n",
    "dataset_loader = DataLoader(dataset, batch_size=32, shuffle=True)\n",
    "\n",
    "print(f\"Loaded {len(dataset)} images under {len(dataset.classes)} classes.\")\n"
   ]
  },
  {
   "cell_type": "code",
   "execution_count": 6,
   "id": "f2aeeb04-5de4-4468-8700-ba92bb397e84",
   "metadata": {},
   "outputs": [],
   "source": [
    "device = torch.device('cuda' if torch.cuda.is_available() else 'cpu')"
   ]
  },
  {
   "cell_type": "code",
   "execution_count": 9,
   "id": "a7232916-1566-4ecd-93f8-fc2e035c44d0",
   "metadata": {},
   "outputs": [],
   "source": [
    "import torch\n",
    "import torchvision.transforms as transforms\n",
    "from torchvision import datasets, models\n",
    "from torch.utils.data import DataLoader\n",
    "from torch import nn, optim\n",
    "import torch.nn.functional as F\n",
    "model = models.resnet18(pretrained=True)\n",
    "num_ftrs = model.fc.in_features\n",
    "model.fc = nn.Linear(num_ftrs, len(dataset.classes))  # Adjusting for the number of classes in your dataset\n",
    "model = model.to(device)\n"
   ]
  },
  {
   "cell_type": "code",
   "execution_count": 10,
   "id": "28e9ba55-0af7-4ab7-a92a-2c9010c15ed3",
   "metadata": {},
   "outputs": [],
   "source": [
    "#mismos que se utilizaran en el resto, ya que depues de tests preliminares, fue la mas efectiva\n",
    "criterion = nn.CrossEntropyLoss()\n",
    "optimizer = optim.Adam(model.parameters(), lr=0.001)\n"
   ]
  },
  {
   "cell_type": "code",
   "execution_count": 12,
   "id": "8d90bbdf-40be-4cc8-8dcc-85b89298db61",
   "metadata": {},
   "outputs": [],
   "source": [
    "transform = transforms.Compose([\n",
    "    transforms.Resize(256),\n",
    "    transforms.CenterCrop(224),\n",
    "    transforms.ToTensor(),\n",
    "    transforms.Normalize(mean=[0.485, 0.456, 0.406], std=[0.229, 0.224, 0.225])\n",
    "])\n",
    "\n",
    "# Assuming your dataset is organized into 'formatted_images' folder\n",
    "data_dir = './data/pets/formatted_images'\n",
    "dataset = datasets.ImageFolder(root=data_dir, transform=transform)\n",
    "dataloader = DataLoader(dataset, batch_size=32, shuffle=True)\n"
   ]
  },
  {
   "cell_type": "code",
   "execution_count": 14,
   "id": "b9cb0f7c-acf2-46eb-bcdd-c88c6487bbc0",
   "metadata": {},
   "outputs": [
    {
     "name": "stdout",
     "output_type": "stream",
     "text": [
      "Accuracy of the network on the images: 96%\n"
     ]
    }
   ],
   "source": [
    "correct = 0\n",
    "total = 0\n",
    "with torch.no_grad():\n",
    "    for images, labels in dataloader:\n",
    "        images, labels = images.to(device), labels.to(device)\n",
    "        outputs = model(images)\n",
    "        _, predicted = torch.max(outputs.data, 1)\n",
    "        total += labels.size(0)\n",
    "        correct += (predicted == labels).sum().item()\n",
    "\n",
    "print(f'Accuracy of the network on the images: {100 * correct // total}%')\n"
   ]
  },
  {
   "cell_type": "code",
   "execution_count": null,
   "id": "65624325-8a57-48b1-a45e-7a431b1090e3",
   "metadata": {},
   "outputs": [],
   "source": []
  },
  {
   "cell_type": "code",
   "execution_count": 15,
   "id": "0a1fa657-caf7-4581-b12d-7e84a57d05ce",
   "metadata": {},
   "outputs": [],
   "source": [
    "import torch\n",
    "import torchvision.transforms as transforms\n",
    "from torchvision import datasets, models\n",
    "from torch.utils.data import DataLoader\n",
    "from torch import nn, optim\n",
    "import torch.nn.functional as F\n",
    "\n",
    "# Define transformations\n",
    "transform = transforms.Compose([\n",
    "    transforms.Resize(256),\n",
    "    transforms.CenterCrop(224),\n",
    "    transforms.ToTensor(),\n",
    "    transforms.Normalize(mean=[0.485, 0.456, 0.406], std=[0.229, 0.224, 0.225])\n",
    "])\n",
    "\n",
    "# Load dataset\n",
    "data_dir = './data/pets/formatted_images'\n",
    "dataset = datasets.ImageFolder(root=data_dir, transform=transform)\n"
   ]
  },
  {
   "cell_type": "code",
   "execution_count": 16,
   "id": "bc499955-9a5e-4ad2-a706-b0c68b815732",
   "metadata": {},
   "outputs": [],
   "source": [
    "# Splitting the dataset\n",
    "train_size = int(0.8 * len(dataset))\n",
    "val_size = len(dataset) - train_size\n",
    "train_dataset, val_dataset = torch.utils.data.random_split(dataset, [train_size, val_size])\n",
    "\n",
    "# Data loaders\n",
    "train_loader = DataLoader(train_dataset, batch_size=32, shuffle=True)\n",
    "val_loader = DataLoader(val_dataset, batch_size=32, shuffle=False)\n"
   ]
  },
  {
   "cell_type": "code",
   "execution_count": 17,
   "id": "a0bf83ee-6373-44aa-adb3-dca98deedea0",
   "metadata": {},
   "outputs": [],
   "source": [
    "# Setting up the model\n",
    "model = models.resnet18(pretrained=True)\n",
    "num_ftrs = model.fc.in_features\n",
    "model.fc = nn.Linear(num_ftrs, len(dataset.classes))\n",
    "model = model.to(torch.device('cuda' if torch.cuda.is_available() else 'cpu'))\n",
    "\n",
    "# Loss function and optimizer\n",
    "criterion = nn.CrossEntropyLoss()\n",
    "optimizer = optim.Adam(model.parameters(), lr=0.001)\n"
   ]
  },
  {
   "cell_type": "code",
   "execution_count": 23,
   "id": "509f9863-8ae1-4b3a-a9d3-12db208c06f5",
   "metadata": {},
   "outputs": [
    {
     "name": "stdout",
     "output_type": "stream",
     "text": [
      "Epoch 1, Loss: 0.36795546690354475\n",
      "Validation Accuracy after epoch 1: 75.30446549391068%\n",
      "Epoch 2, Loss: 0.10142733806844902\n",
      "Validation Accuracy after epoch 2: 77.53721244925575%\n",
      "Epoch 3, Loss: 0.04246055936830974\n",
      "Validation Accuracy after epoch 3: 78.07848443843031%\n",
      "Epoch 4, Loss: 0.01895716693346716\n",
      "Validation Accuracy after epoch 4: 80.17591339648173%\n",
      "Epoch 5, Loss: 0.027123306758978682\n",
      "Validation Accuracy after epoch 5: 79.16102841677943%\n",
      "Epoch 6, Loss: 0.07679744946606759\n",
      "Validation Accuracy after epoch 6: 73.00405953991881%\n",
      "Epoch 7, Loss: 0.18031449099448887\n",
      "Validation Accuracy after epoch 7: 61.90798376184033%\n",
      "Epoch 8, Loss: 0.13853194502408842\n",
      "Validation Accuracy after epoch 8: 72.12449255751015%\n",
      "Epoch 9, Loss: 0.12029627913332268\n",
      "Validation Accuracy after epoch 9: 74.6278755074425%\n",
      "Epoch 10, Loss: 0.05108890115736506\n",
      "Validation Accuracy after epoch 10: 77.26657645466847%\n",
      "Epoch 11, Loss: 0.030024857440258602\n",
      "Validation Accuracy after epoch 11: 78.28146143437077%\n",
      "Epoch 12, Loss: 0.04067388439151408\n",
      "Validation Accuracy after epoch 12: 74.69553450608932%\n",
      "Epoch 13, Loss: 0.03815728510302063\n",
      "Validation Accuracy after epoch 13: 77.40189445196211%\n",
      "Epoch 14, Loss: 0.08951737514029987\n",
      "Validation Accuracy after epoch 14: 70.63599458728011%\n",
      "Epoch 15, Loss: 0.08616857058557405\n",
      "Validation Accuracy after epoch 15: 73.68064952638701%\n",
      "Epoch 16, Loss: 0.12029590295514445\n",
      "Validation Accuracy after epoch 16: 74.35723951285522%\n",
      "Epoch 17, Loss: 0.07070937030130645\n",
      "Validation Accuracy after epoch 17: 69.35047361299053%\n",
      "Epoch 18, Loss: 0.05103387278473206\n",
      "Validation Accuracy after epoch 18: 77.13125845737483%\n",
      "Epoch 19, Loss: 0.03143738973177843\n",
      "Validation Accuracy after epoch 19: 78.61975642760487%\n",
      "Epoch 20, Loss: 0.018066346839721616\n",
      "Validation Accuracy after epoch 20: 76.45466847090663%\n",
      "Finished Training\n"
     ]
    }
   ],
   "source": [
    "num_epochs = 20\n",
    "\n",
    "for epoch in range(num_epochs):\n",
    "    model.train()  # Set model to training mode\n",
    "    running_loss = 0.0\n",
    "    for images, labels in train_loader:\n",
    "        images, labels = images.to(device), labels.to(device)  # Use the device variable\n",
    "        \n",
    "        optimizer.zero_grad()  # Zero the gradients\n",
    "        outputs = model(images)  # Forward pass\n",
    "        loss = criterion(outputs, labels)  # Compute loss\n",
    "        loss.backward()  # Backpropagation\n",
    "        optimizer.step()  # Update weights\n",
    "\n",
    "        running_loss += loss.item()\n",
    "\n",
    "    print(f\"Epoch {epoch+1}, Loss: {running_loss / len(train_loader)}\")\n",
    "\n",
    "    # Validation phase\n",
    "    model.eval()  # Set model to evaluation mode\n",
    "    correct = 0\n",
    "    total = 0\n",
    "    with torch.no_grad():\n",
    "        for images, labels in val_loader:\n",
    "            images, labels = images.to(device), labels.to(device)\n",
    "            outputs = model(images)\n",
    "            _, predicted = torch.max(outputs, 1)\n",
    "            total += labels.size(0)\n",
    "            correct += (predicted == labels).sum().item()\n",
    "\n",
    "    print(f'Validation Accuracy after epoch {epoch+1}: {100 * correct / total}%')\n",
    "\n",
    "print(\"Finished Training\")\n"
   ]
  },
  {
   "cell_type": "code",
   "execution_count": 1,
   "id": "7287fcb7-7400-4eba-8c42-925e43e757f1",
   "metadata": {},
   "outputs": [
    {
     "data": {
      "image/png": "[encoded data removed]",
      "text/plain": [
       "<Figure size 640x480 with 2 Axes>"
      ]
     },
     "metadata": {},
     "output_type": "display_data"
    }
   ],
   "source": [
    "import matplotlib.pyplot as plt\n",
    "\n",
    "# Epochs\n",
    "epochs = list(range(1, 21))  # 20 epochs\n",
    "\n",
    "# datos de entreno\n",
    "losses = [\n",
    "    0.36795546690354475, 0.10142733806844902, 0.04246055936830974, 0.01895716693346716,\n",
    "    0.027123306758978682, 0.07679744946606759, 0.18031449099448887, 0.13853194502408842,\n",
    "    0.12029627913332268, 0.05108890115736506, 0.030024857440258602, 0.04067388439151408,\n",
    "    0.03815728510302063, 0.08951737514029987, 0.08616857058557405, 0.12029590295514445,\n",
    "    0.07070937030130645, 0.05103387278473206, 0.03143738973177843, 0.018066346839721616\n",
    "]\n",
    "\n",
    "accuracies = [\n",
    "    75.30446549391068, 77.53721244925575, 78.07848443843031, 80.17591339648173,\n",
    "    79.16102841677943, 73.00405953991881, 61.90798376184033, 72.12449255751015,\n",
    "    74.6278755074425, 77.26657645466847, 78.28146143437077, 74.69553450608932,\n",
    "    77.40189445196211, 70.63599458728011, 73.68064952638701, 74.35723951285522,\n",
    "    69.35047361299053, 77.13125845737483, 78.61975642760487, 76.45466847090663\n",
    "]\n",
    "\n",
    "fig, ax1 = plt.subplots()\n",
    "\n",
    "color = 'tab:red'\n",
    "ax1.set_xlabel('Epoch')\n",
    "ax1.set_ylabel('Loss', color=color)\n",
    "ax1.plot(epochs, losses, color=color, marker='o', label='Training Loss')\n",
    "ax1.tick_params(axis='y', labelcolor=color)\n",
    "\n",
    "ax2 = ax1.twinx()\n",
    "color = 'tab:blue'\n",
    "ax2.set_ylabel('Accuracy (%)', color=color)\n",
    "ax2.plot(epochs, accuracies, color=color, marker='o', label='Validation Accuracy')\n",
    "ax2.tick_params(axis='y', labelcolor=color)\n",
    "\n",
    "plt.title('Training Loss and Validation Accuracy per Epoch')\n",
    "fig.tight_layout()\n",
    "plt.show()"
   ]
  },
  {
   "cell_type": "markdown",
   "id": "9fc93b23-14d9-413f-9e5c-4500511cb8a3",
   "metadata": {},
   "source": [
    "Un entreno bastante decepcionante desde la preciosion a el loss, esto sin tener en cuenta aun el gran sobre-entreno que se llega"
   ]
  },
  {
   "cell_type": "code",
   "execution_count": 24,
   "id": "2a9ec4d1-b28b-4e88-8015-c763b205cc0e",
   "metadata": {},
   "outputs": [
    {
     "name": "stdout",
     "output_type": "stream",
     "text": [
      "Validation Accuracy after epoch 20: 99.15426251691476%\n"
     ]
    }
   ],
   "source": [
    "correct = 0\n",
    "total = 0\n",
    "for images, labels in train_loader:\n",
    "    images, labels = images.to(device), labels.to(device)\n",
    "    outputs = model(images)\n",
    "    _, predicted = torch.max(outputs, 1)\n",
    "    total += labels.size(0)\n",
    "    correct += (predicted == labels).sum().item()\n",
    "\n",
    "print(f'training Accuracy after epoch {epoch+1}: {100 * correct / total}%')"
   ]
  },
  {
   "cell_type": "markdown",
   "id": "a24efe88-5b76-4c62-ac25-7fa7740119d9",
   "metadata": {},
   "source": [
    "El de arriba deberia decir training y abajo es de validation"
   ]
  },
  {
   "cell_type": "code",
   "execution_count": 25,
   "id": "11358f7c-bf97-42f8-b436-dc50d28dc5be",
   "metadata": {},
   "outputs": [
    {
     "name": "stdout",
     "output_type": "stream",
     "text": [
      "Validation Accuracy after epoch 20: 76.45466847090663%\n"
     ]
    }
   ],
   "source": [
    "correct = 0\n",
    "total = 0\n",
    "for images, labels in val_loader:\n",
    "    images, labels = images.to(device), labels.to(device)\n",
    "    outputs = model(images)\n",
    "    _, predicted = torch.max(outputs, 1)\n",
    "    total += labels.size(0)\n",
    "    correct += (predicted == labels).sum().item()\n",
    "\n",
    "print(f'Validation Accuracy after epoch {epoch+1}: {100 * correct / total}%')"
   ]
  },
  {
   "cell_type": "markdown",
   "id": "876058a9-6865-493d-924d-a7a5c17fd882",
   "metadata": {},
   "source": [
    "Aqui se puede ver el mayor fallo del modelo, su pesimo rendimiento de validacion, mientras mantiene un training accuracy de 99%\n",
    "llega a 76% de accuracy en el test dataset, con losses tan bajos que le seria casi imposible reducirlo."
   ]
  }
 ],
 "metadata": {
  "kernelspec": {
   "display_name": "Python 3 (ipykernel)",
   "language": "python",
   "name": "python3"
  },
  "language_info": {
   "codemirror_mode": {
    "name": "ipython",
    "version": 3
   },
   "file_extension": ".py",
   "mimetype": "text/x-python",
   "name": "python",
   "nbconvert_exporter": "python",
   "pygments_lexer": "ipython3",
   "version": "3.11.5"
  }
 },
 "nbformat": 4,
 "nbformat_minor": 5
}
